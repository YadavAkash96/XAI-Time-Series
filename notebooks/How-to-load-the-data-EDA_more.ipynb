{
 "cells": [
  {
   "cell_type": "code",
   "execution_count": 29,
   "metadata": {},
   "outputs": [],
   "source": [
    "# # How to load the Data\n",
    "\n",
    "# Software setup:\n",
    "\n",
    "# ```bash\n",
    "# conda create --name tool-tracking_env python=3.12\n",
    "# conda activate tool-tracking_env\n",
    "# pip install -r requirements.txt\n",
    "# jupyter notebook\n",
    "# ```"
   ]
  },
  {
   "cell_type": "markdown",
   "metadata": {},
   "source": [
    "## 0. Structure of Tool Tracking Data"
   ]
  },
  {
   "cell_type": "markdown",
   "metadata": {},
   "source": [
    "You have one dedicated folder for each __(hand) tool__. On the next level are folders for each __measurement campaign__. The undermost level contains all __measurements__ of the corresponding measurement campaign.\n",
    "\n",
    "The preferred way to access the data for analysis and learning is using the `data-tools` package which is part of this repository.\n",
    "\n",
    "![data_structure](./info/structure_scheme.jpg)"
   ]
  },
  {
   "cell_type": "markdown",
   "metadata": {},
   "source": [
    "## 1. Load Data with `data-tools`\n",
    "\n",
    "First we have to connect to our downloaded data using the main class:"
   ]
  },
  {
   "cell_type": "code",
   "execution_count": 2,
   "metadata": {},
   "outputs": [],
   "source": [
    "import os\n",
    "\n",
    "os.chdir(r\"E:\\MS_AI\\Sem-IV\\Seminar-ADLTS\\tool-tracking\\data-tools\")\n",
    "# os.getcwd()"
   ]
  },
  {
   "cell_type": "code",
   "execution_count": 3,
   "metadata": {},
   "outputs": [],
   "source": [
    "\n",
    "from pathlib import Path\n",
    "from datatools.fixture import setup_dummy_data\n",
    "# test_tool\n",
    "# source = setup_dummy_data(5)\n",
    "\n",
    "# put data into this source folder\n",
    "source = \"./tool-tracking-data/\"\n",
    "os.chdir(r\"E:\\MS_AI\\Sem-IV\\Seminar-ADLTS\\tool-tracking\")\n"
   ]
  },
  {
   "cell_type": "code",
   "execution_count": 4,
   "metadata": {
    "scrolled": true
   },
   "outputs": [],
   "source": [
    "from datatools import MeasurementDataReader, Measurement, MeasurementSeries, Action\n",
    "mdr = MeasurementDataReader(source=source)"
   ]
  },
  {
   "cell_type": "markdown",
   "metadata": {},
   "source": [
    "### 1.1 Create a Query to load _Measurements_ or _Actions_\n",
    "\n",
    "Using the `mdr` object we can create a `Query` object to formulate a query to the data source."
   ]
  },
  {
   "cell_type": "code",
   "execution_count": 5,
   "metadata": {},
   "outputs": [],
   "source": [
    "q = mdr.query(query_type=Measurement)"
   ]
  },
  {
   "cell_type": "markdown",
   "metadata": {},
   "source": [
    "Depending on the use case you can query for _Measurements_ which represents a temporal contiguous time series with inhomogeneous labels or _Actions_ which are parts of _Measurements_ but have the same label throughout their time range:\n",
    "\n",
    "```python\n",
    "from datatools import Action\n",
    "q = mdr.query(query_type=Action)\n",
    "```"
   ]
  },
  {
   "cell_type": "markdown",
   "metadata": {},
   "source": [
    "### 1.2 Narrow a Query to load _Measurements_ of interest"
   ]
  },
  {
   "cell_type": "code",
   "execution_count": 115,
   "metadata": {},
   "outputs": [
    {
     "name": "stdout",
     "output_type": "stream",
     "text": [
      "[INFO] Preparing data from:\n",
      "  tool-tracking-data\\pneumatic_screwdriver\\iot_lab-03-20200724\n",
      "  tool-tracking-data\\pneumatic_screwdriver\\iot_lab-03-20200724\n",
      "  tool-tracking-data\\pneumatic_screwdriver\\iot_lab-03-20200724\n",
      "  tool-tracking-data\\pneumatic_screwdriver\\iot_lab-03-20200724\n"
     ]
    },
    {
     "name": "stderr",
     "output_type": "stream",
     "text": [
      "[INFO] Read annotation: 100%|██████████| 16/16 [00:04<00:00,  3.57it/s, file=data-04.annotation]"
     ]
    },
    {
     "name": "stdout",
     "output_type": "stream",
     "text": [
      "[INFO] Finished with 4 measurement(s).\n"
     ]
    },
    {
     "name": "stderr",
     "output_type": "stream",
     "text": [
      "\n"
     ]
    }
   ],
   "source": [
    "from datatools import Tool, Config, MeasurementSeries, Measurement, DataTypes, Action\n",
    "from datatools import ACC, GYR, MAG, MIC, POS, VEL\n",
    "\n",
    "# mytool = \"electric_screwdriver\"\n",
    "mytool = \"pneumatic_screwdriver\"\n",
    "#mytool = \"pneumatic_rivet_gun\"\n",
    "#mytool = \"test_tool\"\n",
    "\n",
    "data_dict = q.filter_by(Tool == mytool, DataTypes == ACC).get()"
   ]
  },
  {
   "cell_type": "code",
   "execution_count": 116,
   "metadata": {},
   "outputs": [
    {
     "data": {
      "text/plain": [
       "dict_keys(['01', '02', '03', '04'])"
      ]
     },
     "execution_count": 116,
     "metadata": {},
     "output_type": "execute_result"
    }
   ],
   "source": [
    "data_dict.keys()  # we have loaded five measurements "
   ]
  },
  {
   "cell_type": "code",
   "execution_count": 117,
   "metadata": {},
   "outputs": [
    {
     "data": {
      "text/plain": [
       "datatools.data.DataBunch"
      ]
     },
     "execution_count": 117,
     "metadata": {},
     "output_type": "execute_result"
    }
   ],
   "source": [
    "data_bunch = data_dict[\"01\"] # data bunch for measurement with measurement id \"01\"\n",
    "type(data_bunch)  "
   ]
  },
  {
   "cell_type": "markdown",
   "metadata": {},
   "source": [
    "### 1.3 Interaction with the `DataBunch` class\n",
    "\n",
    "A DataBunch object is a dictionary-like object that exposes its keys as attributes. Access the data with `data_bunch.acc` or `data_bunch['audio']`. You can inspect which data is contained with:"
   ]
  },
  {
   "cell_type": "code",
   "execution_count": 118,
   "metadata": {},
   "outputs": [
    {
     "data": {
      "text/plain": [
       "['acc']"
      ]
     },
     "execution_count": 118,
     "metadata": {},
     "output_type": "execute_result"
    }
   ],
   "source": [
    "data_bunch.data_keys()"
   ]
  },
  {
   "cell_type": "code",
   "execution_count": 119,
   "metadata": {},
   "outputs": [
    {
     "data": {
      "text/plain": [
       "['acceleration x-axis [m/s^2]',\n",
       " 'acceleration y-axis [m/s^2]',\n",
       " 'acceleration z-axis [m/s^2]']"
      ]
     },
     "execution_count": 119,
     "metadata": {},
     "output_type": "execute_result"
    }
   ],
   "source": [
    "data_bunch.acc.features"
   ]
  },
  {
   "cell_type": "code",
   "execution_count": 120,
   "metadata": {},
   "outputs": [],
   "source": [
    "# matrix with raw sensor data with time column\n",
    "Xt = data_bunch.acc.ts # numpy array\n",
    "\n",
    "# matrix with raw sensor data (without time column)\n",
    "X = data_bunch.acc.X  # numpy array\n",
    "\n",
    "# target vector\n",
    "y = data_bunch.acc.y  # numpy array"
   ]
  },
  {
   "cell_type": "code",
   "execution_count": 121,
   "metadata": {},
   "outputs": [
    {
     "name": "stdout",
     "output_type": "stream",
     "text": [
      "shape of Xt:  (34271, 4)\n",
      "shape of X:  (34271, 3)\n",
      "shape of y:  (34271,)\n"
     ]
    }
   ],
   "source": [
    "print(\"shape of Xt: \", Xt.shape)\n",
    "print(\"shape of X: \", X.shape)\n",
    "print(\"shape of y: \", y.shape)"
   ]
  },
  {
   "cell_type": "markdown",
   "metadata": {},
   "source": [
    "### 1.4 Narrow a Query to load _Actions_ of interest"
   ]
  },
  {
   "cell_type": "code",
   "execution_count": 122,
   "metadata": {},
   "outputs": [
    {
     "name": "stdout",
     "output_type": "stream",
     "text": [
      "[INFO] Preparing data from:\n",
      "  tool-tracking-data\\pneumatic_screwdriver\\iot_lab-03-20200724\n",
      "  tool-tracking-data\\pneumatic_screwdriver\\iot_lab-03-20200724\n",
      "  tool-tracking-data\\pneumatic_screwdriver\\iot_lab-03-20200724\n",
      "  tool-tracking-data\\pneumatic_screwdriver\\iot_lab-03-20200724\n"
     ]
    },
    {
     "name": "stderr",
     "output_type": "stream",
     "text": [
      "[INFO] Read annotation: 100%|██████████| 16/16 [00:11<00:00,  1.37it/s, file=data-04.annotation]\n"
     ]
    },
    {
     "name": "stdout",
     "output_type": "stream",
     "text": [
      "[INFO] Finished with 83 action(s).\n"
     ]
    }
   ],
   "source": [
    "data_dict = mdr.query(query_type=Action).filter_by(Action == \"tightening\", Tool == mytool).get()"
   ]
  },
  {
   "cell_type": "code",
   "execution_count": 123,
   "metadata": {},
   "outputs": [
    {
     "data": {
      "text/plain": [
       "dict_keys(['tightening'])"
      ]
     },
     "execution_count": 123,
     "metadata": {},
     "output_type": "execute_result"
    }
   ],
   "source": [
    "data_dict.keys()  # the data is now grouped by actions"
   ]
  },
  {
   "cell_type": "code",
   "execution_count": 124,
   "metadata": {},
   "outputs": [
    {
     "name": "stdout",
     "output_type": "stream",
     "text": [
      "<class 'list'> of <class 'datatools.data.DataBunch'>\n"
     ]
    }
   ],
   "source": [
    "data_bunches = data_dict[\"tightening\"]\n",
    "print(f\"{type(data_bunches)} of {type(data_bunches[0])}\")"
   ]
  },
  {
   "cell_type": "markdown",
   "metadata": {},
   "source": [
    "## 2. Create windowed Time-Series"
   ]
  },
  {
   "cell_type": "code",
   "execution_count": 125,
   "metadata": {},
   "outputs": [
    {
     "data": {
      "text/plain": [
       "'E:\\\\MS_AI\\\\Sem-IV\\\\Seminar-ADLTS\\\\tool-tracking'"
      ]
     },
     "execution_count": 125,
     "metadata": {},
     "output_type": "execute_result"
    }
   ],
   "source": [
    "os.getcwd()"
   ]
  },
  {
   "cell_type": "code",
   "execution_count": 126,
   "metadata": {},
   "outputs": [],
   "source": [
    "import numpy as np\n",
    "from seglearn.base import TS_Data\n",
    "from seglearn.pipe import Pype\n",
    "os.chdir(r\"E:\\MS_AI\\Sem-IV\\Seminar-ADLTS\\tool-tracking\\fhg-utils\")\n",
    "from fhgutils import Segment, contextual_recarray_dtype, filter_ts_data\n",
    "os.chdir(r\"E:\\MS_AI\\Sem-IV\\Seminar-ADLTS\\tool-tracking\")\n",
    "from datatools import to_ts_data"
   ]
  },
  {
   "cell_type": "markdown",
   "metadata": {},
   "source": [
    "> Note: `to_ts_data` can deal with the output when querying _Measurements_ as well as _Actions_\n",
    "\n",
    "Have a look on the seglearn [user guide](https://dmbee.github.io/seglearn/user_guide.html) to understand the data representation with `Xt` and `Xc`."
   ]
  },
  {
   "cell_type": "code",
   "execution_count": 127,
   "metadata": {},
   "outputs": [],
   "source": [
    "Xt, Xc, y = to_ts_data(data_dict, contextual_recarray_dtype)"
   ]
  },
  {
   "cell_type": "code",
   "execution_count": 128,
   "metadata": {},
   "outputs": [
    {
     "name": "stdout",
     "output_type": "stream",
     "text": [
      "[INFO] Preparing data from:\n",
      "  tool-tracking-data\\pneumatic_screwdriver\\iot_lab-03-20200724\n",
      "  tool-tracking-data\\pneumatic_screwdriver\\iot_lab-03-20200724\n",
      "  tool-tracking-data\\pneumatic_screwdriver\\iot_lab-03-20200724\n",
      "  tool-tracking-data\\pneumatic_screwdriver\\iot_lab-03-20200724\n"
     ]
    },
    {
     "name": "stderr",
     "output_type": "stream",
     "text": [
      "[INFO] Read annotation: 100%|██████████| 16/16 [00:04<00:00,  3.50it/s, file=data-04.annotation]\n"
     ]
    },
    {
     "name": "stdout",
     "output_type": "stream",
     "text": [
      "[INFO] Finished with 4 measurement(s).\n",
      "[INFO] segment ['acc' 'gyr' 'mag' 'mic'] together\n",
      "[INFO] segment ['acc' 'gyr' 'mag' 'mic'] together\n",
      "[INFO] segment ['acc' 'gyr' 'mag' 'mic'] together\n",
      "[INFO] segment ['acc' 'gyr' 'mag' 'mic'] together\n",
      "Segment: 100%|██████████| 24868/24868 [00:01<00:00, 18888.51it/s]\n"
     ]
    }
   ],
   "source": [
    "window_length=0.4 # unit in s\n",
    "overlap = 0.5 # unit in percent\n",
    "\n",
    "# clean and window data\n",
    "data_dict = mdr.query().filter_by(Tool == mytool).get()\n",
    "Xt, Xc, y = to_ts_data(data_dict, contextual_recarray_dtype)\n",
    "\n",
    "X = TS_Data(Xt, Xc)\n",
    "pipe = Pype([\n",
    "    ('segment', Segment(window_length=window_length, overlap=overlap, enforce_size=True, n=len(np.unique(Xc.desc))))\n",
    "])\n",
    "\n",
    "X_trans, y_trans = pipe.fit_transform(X, y)"
   ]
  },
  {
   "cell_type": "markdown",
   "metadata": {},
   "source": [
    "### 2.1 Filter windowed Data"
   ]
  },
  {
   "cell_type": "code",
   "execution_count": 129,
   "metadata": {},
   "outputs": [
    {
     "name": "stdout",
     "output_type": "stream",
     "text": [
      "[INFO] extract segmented ACC data\n",
      "[INFO] extract segmented GYR data\n",
      "[INFO] extract segmented MAG data\n",
      "[INFO] extract segmented MIC data\n"
     ]
    }
   ],
   "source": [
    "print(\"[INFO] extract segmented ACC data\")\n",
    "Xt_acc, Xc_acc, y_acc = filter_ts_data(X_trans, y_trans, filt={'desc': ['acc']})\n",
    "\n",
    "print(\"[INFO] extract segmented GYR data\")\n",
    "Xt_gyr, Xc_gyr, y_gyr = filter_ts_data(X_trans, y_trans, filt={'desc': ['gyr']})\n",
    "\n",
    "print(\"[INFO] extract segmented MAG data\")\n",
    "Xt_mag, Xc_mag, y_mag = filter_ts_data(X_trans,y_trans, filt={'desc': ['mag']})\n",
    "\n",
    "print(\"[INFO] extract segmented MIC data\")\n",
    "Xt_mic, Xc_mic, y_mic = filter_ts_data(X_trans,y_trans, filt={'desc': ['mic']})"
   ]
  },
  {
   "cell_type": "code",
   "execution_count": null,
   "metadata": {},
   "outputs": [
    {
     "data": {
      "text/plain": [
       "((41, 4),\n",
       " (41, 4),\n",
       " (62, 4),\n",
       " (3200, 2),\n",
       " {38: 'impact',\n",
       "  8: 'undefined',\n",
       "  14: 'tightening_double',\n",
       "  5: 'motor_activity_ccw',\n",
       "  7: 'shaking',\n",
       "  4: 'motor_activity_cw',\n",
       "  3: 'untightening',\n",
       "  2: 'tightening'})"
      ]
     },
     "execution_count": 136,
     "metadata": {},
     "output_type": "execute_result"
    }
   ],
   "source": [
    "Xt_acc[0].shape, Xt_gyr[0].shape, Xt_mag[0].shape, Xt_mic[0].shape, data_dict[\"02\"]['classes']"
   ]
  },
  {
   "cell_type": "code",
   "execution_count": 131,
   "metadata": {},
   "outputs": [
    {
     "name": "stdout",
     "output_type": "stream",
     "text": [
      "[INFO] shape of ACC data is (6217,)\n",
      "[INFO] shape of GYR data is (6217,)\n",
      "[INFO] 6217 windows with 4 sample each (time stamps and 3 axis accelerometer)\n"
     ]
    }
   ],
   "source": [
    "print(\"[INFO] shape of ACC data is\", Xt_acc.shape)\n",
    "print(\"[INFO] shape of GYR data is\", Xt_gyr.shape)\n",
    "print(f\"[INFO] {Xt_acc.shape[0]} windows with {Xt_acc[0].shape[1]} sample each (time stamps and 3 axis accelerometer)\")"
   ]
  },
  {
   "cell_type": "markdown",
   "metadata": {},
   "source": [
    "You can discard the time column with e.g.:\n",
    "```python\n",
    "Xt_acc = Xt_acc[:,:,1:]\n",
    "```"
   ]
  },
  {
   "cell_type": "markdown",
   "metadata": {},
   "source": [
    "### 2.2 Plot the Toy Data\n",
    "> Note: In this example we deal with randomly generated toy data!"
   ]
  },
  {
   "cell_type": "code",
   "execution_count": 132,
   "metadata": {},
   "outputs": [
    {
     "data": {
      "image/png": "[encoded data removed]",
      "text/plain": [
       "<Figure size 2400x400 with 1 Axes>"
      ]
     },
     "metadata": {},
     "output_type": "display_data"
    },
    {
     "data": {
      "image/png": "[encoded data removed]",
      "text/plain": [
       "<Figure size 2400x400 with 1 Axes>"
      ]
     },
     "metadata": {},
     "output_type": "display_data"
    }
   ],
   "source": [
    "import matplotlib.pyplot as plt\n",
    "\n",
    "# plot a sample\n",
    "plt.figure(figsize=(24,4))\n",
    "plt.title(f\"Single window\")\n",
    "t = Xt_acc[70][:, 0]\n",
    "x_win = Xt_acc[70][:, 1:]\n",
    "plt.plot(t, x_win)\n",
    "plt.xlabel('Time [a.u.]')\n",
    "plt.ylabel('sensor values acc')\n",
    "plt.show()\n",
    "\n",
    "# plot a measurement\n",
    "plotme = data_dict[\"01\"].acc.ts\n",
    "t = plotme[:, 0]\n",
    "x_mea = plotme[:, 1:]\n",
    "plt.figure(figsize=(24,4))\n",
    "plt.title(\"Measurement #01\")\n",
    "plt.plot(t, x_mea)\n",
    "plt.xlabel('Time [a.u.]')\n",
    "plt.ylabel('sensor values acc')\n",
    "plt.show()"
   ]
  },
  {
   "cell_type": "markdown",
   "metadata": {},
   "source": [
    "## 3. Preprocess the Data"
   ]
  },
  {
   "cell_type": "code",
   "execution_count": 24,
   "metadata": {},
   "outputs": [],
   "source": [
    "from fhgutils import filter_labels, one_label_per_window, summarize_labels"
   ]
  },
  {
   "cell_type": "markdown",
   "metadata": {},
   "source": [
    "### 3.1 `filter_labels`\n",
    "- filter out labels [-1]\n",
    "- also filter out whole windows, in case there is no majority label \n",
    "- e.g. window length of 5, labels could be [1,1,1,1,0] -> okay. but if [1,1,0,0,2] -> discard window."
   ]
  },
  {
   "cell_type": "code",
   "execution_count": 133,
   "metadata": {},
   "outputs": [
    {
     "name": "stdout",
     "output_type": "stream",
     "text": [
      "[INFO] label -1.0 with 668 samples\n",
      "[INFO] label 2.0 with 13339 samples\n",
      "[INFO] label 3.0 with 12796 samples\n",
      "[INFO] label 4.0 with 2767 samples\n",
      "[INFO] label 5.0 with 2019 samples\n",
      "[INFO] label 7.0 with 4135 samples\n",
      "[INFO] label 8.0 with 214833 samples\n",
      "[INFO] label 14.0 with 2720 samples\n",
      "[INFO] label 38.0 with 1620 samples\n"
     ]
    }
   ],
   "source": [
    "values, counts = np.unique(y_acc, return_counts=True)\n",
    "for val, count in zip(values, counts):\n",
    "    print(f\"[INFO] label {val} with {count} samples\")"
   ]
  },
  {
   "cell_type": "code",
   "execution_count": 137,
   "metadata": {},
   "outputs": [
    {
     "data": {
      "text/plain": [
       "array([8., 8., 8., 8., 8., 8., 8., 8., 8., 8., 8., 8., 8., 5., 5., 5., 5.,\n",
       "       5., 5., 5., 5., 5., 5., 5., 5., 5., 5., 5., 5., 5., 5., 5., 5., 5.,\n",
       "       5., 5., 5., 5., 5., 5., 5., 5., 5., 5., 5., 5., 5., 5., 5., 5., 5.,\n",
       "       5., 5., 5., 5., 5., 5., 5., 5., 5., 5., 5.])"
      ]
     },
     "execution_count": 137,
     "metadata": {},
     "output_type": "execute_result"
    }
   ],
   "source": [
    "y_mag[1159]"
   ]
  },
  {
   "cell_type": "code",
   "execution_count": 138,
   "metadata": {},
   "outputs": [
    {
     "name": "stdout",
     "output_type": "stream",
     "text": [
      "[INFO] original Xt: 6217 (41, 4)\n",
      "[INFO] filtered Xt: 6202 (41, 4)\n"
     ]
    }
   ],
   "source": [
    "Xt_acc_f, Xc_acc_f, y_acc_f = filter_labels(labels=[-1], Xt=Xt_acc, Xc=Xc_acc, y=y_acc)"
   ]
  },
  {
   "cell_type": "markdown",
   "metadata": {},
   "source": [
    "### 3.2 `one_label_per_window`\n",
    "- flatten labels of windows to the majority label\n",
    "- `[1,1,1,1,2]` -> 1. bad if you've got `[0,0,0,0,0,1,1,1,1,1,1]` -> 1, this creates anomalous samples of class 1"
   ]
  },
  {
   "cell_type": "code",
   "execution_count": 139,
   "metadata": {},
   "outputs": [
    {
     "name": "stdout",
     "output_type": "stream",
     "text": [
      "pre [8. 8. 8. 8. 8. 8. 8. 8. 8. 8. 8. 8. 8. 8. 8. 8. 8. 8. 8. 8. 8. 8. 8. 8.\n",
      " 8. 8. 8. 8. 8. 8. 8. 8. 8. 8. 8. 8. 8. 8. 8. 8. 8.]\n",
      "flattened 8 labels: [ 2  3  4  5  7  8 14 38]\n",
      "post 8\n"
     ]
    }
   ],
   "source": [
    "print(\"pre\", y_acc_f[5])\n",
    "y_acc_f = one_label_per_window(y=y_acc_f)\n",
    "print(\"post\", y_acc_f[5])"
   ]
  },
  {
   "cell_type": "markdown",
   "metadata": {},
   "source": [
    "### 3.3 `summarize_labels`\n",
    "- some labels are basically very similar, like \"pull_trigger, pull_trigger_air\" for the Pneumatic Rivet Gun\n",
    "- same action, but once holding the tool in the air, once using it on a workpiece."
   ]
  },
  {
   "cell_type": "code",
   "execution_count": 140,
   "metadata": {},
   "outputs": [
    {
     "name": "stdout",
     "output_type": "stream",
     "text": [
      "[INFO] Summarized labels from [-1.  2.  3.  4.  5.  7.  8. 14. 38.] to [-1.  2.  3.  4.  5.  7.  8. 14. 38.]\n"
     ]
    }
   ],
   "source": [
    "summarylabels = {5: [0, 1]} \n",
    "y_acc_f_sum = summarize_labels(y_acc, summarylabels)"
   ]
  },
  {
   "cell_type": "markdown",
   "id": "e421df76",
   "metadata": {},
   "source": [
    "\n",
    "## 🔍 Advanced EDA: Correlation Analysis & Feature Importance\n",
    "\n",
    "Before training LSTM or Transformer models, it's crucial to understand how different sensor inputs relate to each other and the target variable (if available). This helps:\n",
    "- Detect redundant or highly correlated features.\n",
    "- Identify leading indicators for forecasting.\n",
    "- Build a strong benchmark for future comparison.\n",
    "\n",
    "We'll start with a correlation heatmap, followed by training a baseline model to estimate feature importances.\n"
   ]
  },
  {
   "cell_type": "code",
   "execution_count": null,
   "id": "ba26cd2c",
   "metadata": {},
   "outputs": [],
   "source": [
    "\n",
    "import pandas as pd\n",
    "import seaborn as sns\n",
    "import matplotlib.pyplot as plt\n",
    "\n",
    "# Assuming 'df' is the main DataFrame with sensor data\n",
    "# You may need to adapt this depending on your data structure\n",
    "\n",
    "# Drop non-numeric or identifier columns\n",
    "numeric_df = df.select_dtypes(include=['float64', 'int64'])\n",
    "\n",
    "# Compute Pearson correlation\n",
    "correlation_matrix = numeric_df.corr()\n",
    "\n",
    "# Plot correlation heatmap\n",
    "plt.figure(figsize=(12, 8))\n",
    "sns.heatmap(correlation_matrix, annot=True, cmap='coolwarm', fmt=\".2f\", square=True)\n",
    "plt.title(\"Sensor Feature Correlation Matrix\")\n",
    "plt.tight_layout()\n",
    "plt.show()\n"
   ]
  },
  {
   "cell_type": "markdown",
   "id": "c9a76e99",
   "metadata": {},
   "source": [
    "\n",
    "## 🎯 Baseline Model: Feature Importance Estimation\n",
    "\n",
    "A simple Random Forest model helps evaluate the contribution of each sensor input to predicting the target variable. This step:\n",
    "- Establishes a benchmark before using deep learning models.\n",
    "- Highlights the most informative features.\n",
    "\n",
    "This can be useful both for model input selection and interpretability.\n"
   ]
  },
  {
   "cell_type": "code",
   "execution_count": null,
   "id": "dde3c498",
   "metadata": {},
   "outputs": [],
   "source": [
    "\n",
    "from sklearn.ensemble import RandomForestRegressor\n",
    "from sklearn.model_selection import train_test_split\n",
    "from sklearn.metrics import mean_squared_error\n",
    "import numpy as np\n",
    "\n",
    "# Replace 'target_column' with the actual name of your target variable\n",
    "target_column = 'target'  # e.g., 'temperature' or 'output'\n",
    "\n",
    "# Drop rows with missing values (or use imputation if needed)\n",
    "df_clean = df.dropna()\n",
    "\n",
    "X = df_clean.drop(columns=[target_column])\n",
    "y = df_clean[target_column]\n",
    "\n",
    "# Use only numeric columns for Random Forest\n",
    "X = X.select_dtypes(include=['float64', 'int64'])\n",
    "\n",
    "# Split data\n",
    "X_train, X_test, y_train, y_test = train_test_split(X, y, test_size=0.2, random_state=42)\n",
    "\n",
    "# Train Random Forest\n",
    "rf = RandomForestRegressor(n_estimators=100, random_state=42)\n",
    "rf.fit(X_train, y_train)\n",
    "\n",
    "# Evaluate performance\n",
    "preds = rf.predict(X_test)\n",
    "rmse = np.sqrt(mean_squared_error(y_test, preds))\n",
    "print(f\"Baseline Random Forest RMSE: {rmse:.4f}\")\n",
    "\n",
    "# Feature importances\n",
    "importances = pd.Series(rf.feature_importances_, index=X.columns)\n",
    "importances.sort_values().plot(kind='barh', figsize=(10, 6), title='Feature Importances')\n",
    "plt.xlabel(\"Importance Score\")\n",
    "plt.tight_layout()\n",
    "plt.show()\n"
   ]
  }
 ],
 "metadata": {
  "kernelspec": {
   "display_name": "Python 3",
   "language": "python",
   "name": "python3"
  },
  "language_info": {
   "codemirror_mode": {
    "name": "ipython",
    "version": 3
   },
   "file_extension": ".py",
   "mimetype": "text/x-python",
   "name": "python",
   "nbconvert_exporter": "python",
   "pygments_lexer": "ipython3",
   "version": "3.12.10"
  },
  "latex_envs": {
   "LaTeX_envs_menu_present": true,
   "autoclose": false,
   "autocomplete": true,
   "bibliofile": "biblio.bib",
   "cite_by": "apalike",
   "current_citInitial": 1,
   "eqLabelWithNumbers": true,
   "eqNumInitial": 1,
   "hotkeys": {
    "equation": "Ctrl-E",
    "itemize": "Ctrl-I"
   },
   "labels_anchors": false,
   "latex_user_defs": false,
   "report_style_numbering": false,
   "user_envs_cfg": false
  },
  "toc": {
   "base_numbering": 1,
   "nav_menu": {},
   "number_sections": true,
   "sideBar": true,
   "skip_h1_title": false,
   "title_cell": "Table of Contents",
   "title_sidebar": "Contents",
   "toc_cell": false,
   "toc_position": {},
   "toc_section_display": true,
   "toc_window_display": false
  }
 },
 "nbformat": 4,
 "nbformat_minor": 4
}
